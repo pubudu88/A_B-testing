{
 "cells": [
  {
   "cell_type": "code",
   "execution_count": 14,
   "metadata": {},
   "outputs": [],
   "source": [
    "import numpy as np\n",
    "import pandas as pd\n",
    "from scipy.stats import chi2, chi2_contingency\n",
    "from scipy import stats"
   ]
  },
  {
   "cell_type": "code",
   "execution_count": 8,
   "metadata": {},
   "outputs": [],
   "source": [
    "df = pd.read_csv('data/advertisement_clicks.csv')"
   ]
  },
  {
   "cell_type": "code",
   "execution_count": 10,
   "metadata": {},
   "outputs": [
    {
     "data": {
      "text/html": [
       "<div>\n",
       "<style scoped>\n",
       "    .dataframe tbody tr th:only-of-type {\n",
       "        vertical-align: middle;\n",
       "    }\n",
       "\n",
       "    .dataframe tbody tr th {\n",
       "        vertical-align: top;\n",
       "    }\n",
       "\n",
       "    .dataframe thead th {\n",
       "        text-align: right;\n",
       "    }\n",
       "</style>\n",
       "<table border=\"1\" class=\"dataframe\">\n",
       "  <thead>\n",
       "    <tr style=\"text-align: right;\">\n",
       "      <th></th>\n",
       "      <th>advertisement_id</th>\n",
       "      <th>action</th>\n",
       "    </tr>\n",
       "  </thead>\n",
       "  <tbody>\n",
       "    <tr>\n",
       "      <th>0</th>\n",
       "      <td>B</td>\n",
       "      <td>1</td>\n",
       "    </tr>\n",
       "    <tr>\n",
       "      <th>1</th>\n",
       "      <td>B</td>\n",
       "      <td>1</td>\n",
       "    </tr>\n",
       "    <tr>\n",
       "      <th>2</th>\n",
       "      <td>A</td>\n",
       "      <td>0</td>\n",
       "    </tr>\n",
       "    <tr>\n",
       "      <th>3</th>\n",
       "      <td>B</td>\n",
       "      <td>0</td>\n",
       "    </tr>\n",
       "    <tr>\n",
       "      <th>4</th>\n",
       "      <td>A</td>\n",
       "      <td>1</td>\n",
       "    </tr>\n",
       "    <tr>\n",
       "      <th>...</th>\n",
       "      <td>...</td>\n",
       "      <td>...</td>\n",
       "    </tr>\n",
       "    <tr>\n",
       "      <th>1995</th>\n",
       "      <td>A</td>\n",
       "      <td>0</td>\n",
       "    </tr>\n",
       "    <tr>\n",
       "      <th>1996</th>\n",
       "      <td>A</td>\n",
       "      <td>0</td>\n",
       "    </tr>\n",
       "    <tr>\n",
       "      <th>1997</th>\n",
       "      <td>A</td>\n",
       "      <td>0</td>\n",
       "    </tr>\n",
       "    <tr>\n",
       "      <th>1998</th>\n",
       "      <td>A</td>\n",
       "      <td>1</td>\n",
       "    </tr>\n",
       "    <tr>\n",
       "      <th>1999</th>\n",
       "      <td>A</td>\n",
       "      <td>0</td>\n",
       "    </tr>\n",
       "  </tbody>\n",
       "</table>\n",
       "<p>2000 rows × 2 columns</p>\n",
       "</div>"
      ],
      "text/plain": [
       "     advertisement_id  action\n",
       "0                   B       1\n",
       "1                   B       1\n",
       "2                   A       0\n",
       "3                   B       0\n",
       "4                   A       1\n",
       "...               ...     ...\n",
       "1995                A       0\n",
       "1996                A       0\n",
       "1997                A       0\n",
       "1998                A       1\n",
       "1999                A       0\n",
       "\n",
       "[2000 rows x 2 columns]"
      ]
     },
     "execution_count": 10,
     "metadata": {},
     "output_type": "execute_result"
    }
   ],
   "source": [
    "df"
   ]
  },
  {
   "cell_type": "markdown",
   "metadata": {},
   "source": [
    "In this dataset, we have two advertisements and the data whether the user clicked or not. We need to check if there is any difference between in two ads in terms of performance (CTR)"
   ]
  },
  {
   "cell_type": "markdown",
   "metadata": {},
   "source": [
    "#### Using contingency table Chi-square test"
   ]
  },
  {
   "cell_type": "markdown",
   "metadata": {},
   "source": [
    "Chi-square test of independence of variables in a contingency table. It checks if two variables are the same or different"
   ]
  },
  {
   "cell_type": "code",
   "execution_count": 16,
   "metadata": {},
   "outputs": [],
   "source": [
    "# contingency table\n",
    "#        click       no click\n",
    "#------------------------------\n",
    "# ad A |   a            b\n",
    "# ad B |   c            d\n",
    "\n",
    "# get data\n",
    "df = pd.read_csv('data/advertisement_clicks.csv')\n",
    "a = df[df['advertisement_id'] == 'A']\n",
    "b = df[df['advertisement_id'] == 'B']\n",
    "a = a['action']\n",
    "b = b['action']\n",
    "\n",
    "A_clk = a.sum()\n",
    "A_noclk = a.size - a.sum()\n",
    "B_clk = b.sum()\n",
    "B_noclk = b.size - b.sum()\n",
    "\n",
    "chi2, p, dof, ex =chi2_contingency(T, correction=False)"
   ]
  },
  {
   "cell_type": "code",
   "execution_count": 17,
   "metadata": {},
   "outputs": [
    {
     "data": {
      "text/plain": [
       "0.0013069502732125406"
      ]
     },
     "execution_count": 17,
     "metadata": {},
     "output_type": "execute_result"
    }
   ],
   "source": [
    "p"
   ]
  },
  {
   "cell_type": "markdown",
   "metadata": {},
   "source": [
    "#### Using t test"
   ]
  },
  {
   "cell_type": "code",
   "execution_count": 15,
   "metadata": {},
   "outputs": [
    {
     "name": "stdout",
     "output_type": "stream",
     "text": [
      "a.mean: 0.304\n",
      "b.mean: 0.372\n",
      "t:\t -3.2211732138019786 p:\t 0.0012971905467125246\n",
      "Welch's t-test:\n",
      "t:\t -3.2211732138019786 p:\t 0.0012972410374001632\n"
     ]
    }
   ],
   "source": [
    "print(\"a.mean:\", a.mean())\n",
    "print(\"b.mean:\", b.mean())\n",
    "\n",
    "# built-in t-test:\n",
    "t, p = stats.ttest_ind(a, b)   # Calculate the T-test for the means of two independent samples of scores.\n",
    "print(\"t:\\t\", t, \"p:\\t\", p)\n",
    "\n",
    "# welch's t-test:\n",
    "t, p = stats.ttest_ind(a, b, equal_var=False)\n",
    "print(\"Welch's t-test:\") # Welch test is used when the two samples have unequal variances and/or unequal sample sizes\n",
    "print(\"t:\\t\", t, \"p:\\t\", p)"
   ]
  },
  {
   "cell_type": "markdown",
   "metadata": {},
   "source": [
    "Null hypothesis is that CTR of both group are the same and alternate hypothesis is that, there is a significant difference in the CTR of the two groups. Since the p-values of both tests are less than 0.05, we can reject the null hypothesis. Therefore we conclude that there is a signifincat difference in CTR in the two groups"
   ]
  },
  {
   "cell_type": "markdown",
   "metadata": {},
   "source": [
    "#### T-test:\n",
    "Allows\tyou\tto\tanswer\tthe\tquestion,\tare\tthese\ttwo\tgroups\tstatistically\tdifferent from\teach\tother?\n",
    "Null\tHypothesis:\tThere\tis\tno\tstatistical\tdifference\tbetween\tthe\tmeans\tof\tthe\ttwo\tgroups.\n",
    "When\tyou\treject\tthe\tnull\thypothesis\twith\ta\tt-test,\tyou\tare\tsaying\tthat\tthe\tmeans\tare\tstatistically\t\n",
    "different.\tThe\tdifference\tis\tmeaningful."
   ]
  }
 ],
 "metadata": {
  "kernelspec": {
   "display_name": "Python 3",
   "language": "python",
   "name": "python3"
  },
  "language_info": {
   "codemirror_mode": {
    "name": "ipython",
    "version": 3
   },
   "file_extension": ".py",
   "mimetype": "text/x-python",
   "name": "python",
   "nbconvert_exporter": "python",
   "pygments_lexer": "ipython3",
   "version": "3.9.0"
  }
 },
 "nbformat": 4,
 "nbformat_minor": 4
}
